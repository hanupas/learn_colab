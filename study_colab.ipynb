{
  "nbformat": 4,
  "nbformat_minor": 0,
  "metadata": {
    "colab": {
      "name": "study_colab.ipynb",
      "provenance": [],
      "toc_visible": true,
      "collapsed_sections": [],
      "include_colab_link": true
    },
    "kernelspec": {
      "name": "python3",
      "display_name": "Python 3"
    },
    "accelerator": "GPU"
  },
  "cells": [
    {
      "cell_type": "markdown",
      "metadata": {
        "id": "view-in-github",
        "colab_type": "text"
      },
      "source": [
        "<a href=\"https://colab.research.google.com/github/hanupas/learn_colab/blob/main/study_colab.ipynb\" target=\"_parent\"><img src=\"https://colab.research.google.com/assets/colab-badge.svg\" alt=\"Open In Colab\"/></a>"
      ]
    },
    {
      "cell_type": "markdown",
      "source": [
        "# PERCOBAAN AWAL"
      ],
      "metadata": {
        "id": "f9zEAZLrcliX"
      }
    },
    {
      "cell_type": "code",
      "metadata": {
        "id": "t06ylYsUu7Zt",
        "outputId": "16775647-2e09-4c63-e406-ee536d77aeb6",
        "colab": {
          "base_uri": "https://localhost:8080/",
          "height": 328
        }
      },
      "source": [
        "from google.colab import drive\n",
        "drive.mount('/gdrive')"
      ],
      "execution_count": 1,
      "outputs": [
        {
          "output_type": "error",
          "ename": "MessageError",
          "evalue": "ignored",
          "traceback": [
            "\u001b[0;31m---------------------------------------------------------------------------\u001b[0m",
            "\u001b[0;31mMessageError\u001b[0m                              Traceback (most recent call last)",
            "\u001b[0;32m<ipython-input-1-e5b0420cd036>\u001b[0m in \u001b[0;36m<module>\u001b[0;34m()\u001b[0m\n\u001b[1;32m      1\u001b[0m \u001b[0;32mfrom\u001b[0m \u001b[0mgoogle\u001b[0m\u001b[0;34m.\u001b[0m\u001b[0mcolab\u001b[0m \u001b[0;32mimport\u001b[0m \u001b[0mdrive\u001b[0m\u001b[0;34m\u001b[0m\u001b[0;34m\u001b[0m\u001b[0m\n\u001b[0;32m----> 2\u001b[0;31m \u001b[0mdrive\u001b[0m\u001b[0;34m.\u001b[0m\u001b[0mmount\u001b[0m\u001b[0;34m(\u001b[0m\u001b[0;34m'/gdrive'\u001b[0m\u001b[0;34m)\u001b[0m\u001b[0;34m\u001b[0m\u001b[0;34m\u001b[0m\u001b[0m\n\u001b[0m",
            "\u001b[0;32m/usr/local/lib/python3.7/dist-packages/google/colab/drive.py\u001b[0m in \u001b[0;36mmount\u001b[0;34m(mountpoint, force_remount, timeout_ms, use_metadata_server)\u001b[0m\n\u001b[1;32m    111\u001b[0m       \u001b[0mtimeout_ms\u001b[0m\u001b[0;34m=\u001b[0m\u001b[0mtimeout_ms\u001b[0m\u001b[0;34m,\u001b[0m\u001b[0;34m\u001b[0m\u001b[0;34m\u001b[0m\u001b[0m\n\u001b[1;32m    112\u001b[0m       \u001b[0muse_metadata_server\u001b[0m\u001b[0;34m=\u001b[0m\u001b[0muse_metadata_server\u001b[0m\u001b[0;34m,\u001b[0m\u001b[0;34m\u001b[0m\u001b[0;34m\u001b[0m\u001b[0m\n\u001b[0;32m--> 113\u001b[0;31m       ephemeral=ephemeral)\n\u001b[0m\u001b[1;32m    114\u001b[0m \u001b[0;34m\u001b[0m\u001b[0m\n\u001b[1;32m    115\u001b[0m \u001b[0;34m\u001b[0m\u001b[0m\n",
            "\u001b[0;32m/usr/local/lib/python3.7/dist-packages/google/colab/drive.py\u001b[0m in \u001b[0;36m_mount\u001b[0;34m(mountpoint, force_remount, timeout_ms, use_metadata_server, ephemeral)\u001b[0m\n\u001b[1;32m    134\u001b[0m   \u001b[0;32mif\u001b[0m \u001b[0mephemeral\u001b[0m\u001b[0;34m:\u001b[0m\u001b[0;34m\u001b[0m\u001b[0;34m\u001b[0m\u001b[0m\n\u001b[1;32m    135\u001b[0m     _message.blocking_request(\n\u001b[0;32m--> 136\u001b[0;31m         'request_auth', request={'authType': 'dfs_ephemeral'}, timeout_sec=None)\n\u001b[0m\u001b[1;32m    137\u001b[0m \u001b[0;34m\u001b[0m\u001b[0m\n\u001b[1;32m    138\u001b[0m   \u001b[0mmountpoint\u001b[0m \u001b[0;34m=\u001b[0m \u001b[0m_os\u001b[0m\u001b[0;34m.\u001b[0m\u001b[0mpath\u001b[0m\u001b[0;34m.\u001b[0m\u001b[0mexpanduser\u001b[0m\u001b[0;34m(\u001b[0m\u001b[0mmountpoint\u001b[0m\u001b[0;34m)\u001b[0m\u001b[0;34m\u001b[0m\u001b[0;34m\u001b[0m\u001b[0m\n",
            "\u001b[0;32m/usr/local/lib/python3.7/dist-packages/google/colab/_message.py\u001b[0m in \u001b[0;36mblocking_request\u001b[0;34m(request_type, request, timeout_sec, parent)\u001b[0m\n\u001b[1;32m    173\u001b[0m   request_id = send_request(\n\u001b[1;32m    174\u001b[0m       request_type, request, parent=parent, expect_reply=True)\n\u001b[0;32m--> 175\u001b[0;31m   \u001b[0;32mreturn\u001b[0m \u001b[0mread_reply_from_input\u001b[0m\u001b[0;34m(\u001b[0m\u001b[0mrequest_id\u001b[0m\u001b[0;34m,\u001b[0m \u001b[0mtimeout_sec\u001b[0m\u001b[0;34m)\u001b[0m\u001b[0;34m\u001b[0m\u001b[0;34m\u001b[0m\u001b[0m\n\u001b[0m",
            "\u001b[0;32m/usr/local/lib/python3.7/dist-packages/google/colab/_message.py\u001b[0m in \u001b[0;36mread_reply_from_input\u001b[0;34m(message_id, timeout_sec)\u001b[0m\n\u001b[1;32m    104\u001b[0m         reply.get('colab_msg_id') == message_id):\n\u001b[1;32m    105\u001b[0m       \u001b[0;32mif\u001b[0m \u001b[0;34m'error'\u001b[0m \u001b[0;32min\u001b[0m \u001b[0mreply\u001b[0m\u001b[0;34m:\u001b[0m\u001b[0;34m\u001b[0m\u001b[0;34m\u001b[0m\u001b[0m\n\u001b[0;32m--> 106\u001b[0;31m         \u001b[0;32mraise\u001b[0m \u001b[0mMessageError\u001b[0m\u001b[0;34m(\u001b[0m\u001b[0mreply\u001b[0m\u001b[0;34m[\u001b[0m\u001b[0;34m'error'\u001b[0m\u001b[0;34m]\u001b[0m\u001b[0;34m)\u001b[0m\u001b[0;34m\u001b[0m\u001b[0;34m\u001b[0m\u001b[0m\n\u001b[0m\u001b[1;32m    107\u001b[0m       \u001b[0;32mreturn\u001b[0m \u001b[0mreply\u001b[0m\u001b[0;34m.\u001b[0m\u001b[0mget\u001b[0m\u001b[0;34m(\u001b[0m\u001b[0;34m'data'\u001b[0m\u001b[0;34m,\u001b[0m \u001b[0;32mNone\u001b[0m\u001b[0;34m)\u001b[0m\u001b[0;34m\u001b[0m\u001b[0;34m\u001b[0m\u001b[0m\n\u001b[1;32m    108\u001b[0m \u001b[0;34m\u001b[0m\u001b[0m\n",
            "\u001b[0;31mMessageError\u001b[0m: Error: credential propagation was unsuccessful"
          ]
        }
      ]
    },
    {
      "cell_type": "code",
      "metadata": {
        "id": "DeC_rgQqv1cl",
        "outputId": "b581243a-8d13-4a9e-abcf-7910d1f3a870",
        "colab": {
          "base_uri": "https://localhost:8080/",
          "height": 243
        }
      },
      "source": [
        "!pip install gym-retro\n"
      ],
      "execution_count": null,
      "outputs": [
        {
          "output_type": "stream",
          "text": [
            "Requirement already satisfied: gym-retro in /usr/local/lib/python3.6/dist-packages (0.7.0)\n",
            "Requirement already satisfied: pyglet==1.*,>=1.3.2 in /usr/local/lib/python3.6/dist-packages (from gym-retro) (1.3.2)\n",
            "Requirement already satisfied: gym in /usr/local/lib/python3.6/dist-packages (from gym-retro) (0.10.11)\n",
            "Requirement already satisfied: future in /usr/local/lib/python3.6/dist-packages (from pyglet==1.*,>=1.3.2->gym-retro) (0.16.0)\n",
            "Requirement already satisfied: scipy in /usr/local/lib/python3.6/dist-packages (from gym->gym-retro) (1.1.0)\n",
            "Requirement already satisfied: numpy>=1.10.4 in /usr/local/lib/python3.6/dist-packages (from gym->gym-retro) (1.14.6)\n",
            "Requirement already satisfied: requests>=2.0 in /usr/local/lib/python3.6/dist-packages (from gym->gym-retro) (2.18.4)\n",
            "Requirement already satisfied: six in /usr/local/lib/python3.6/dist-packages (from gym->gym-retro) (1.11.0)\n",
            "Requirement already satisfied: urllib3<1.23,>=1.21.1 in /usr/local/lib/python3.6/dist-packages (from requests>=2.0->gym->gym-retro) (1.22)\n",
            "Requirement already satisfied: chardet<3.1.0,>=3.0.2 in /usr/local/lib/python3.6/dist-packages (from requests>=2.0->gym->gym-retro) (3.0.4)\n",
            "Requirement already satisfied: certifi>=2017.4.17 in /usr/local/lib/python3.6/dist-packages (from requests>=2.0->gym->gym-retro) (2019.3.9)\n",
            "Requirement already satisfied: idna<2.7,>=2.5 in /usr/local/lib/python3.6/dist-packages (from requests>=2.0->gym->gym-retro) (2.6)\n"
          ],
          "name": "stdout"
        }
      ]
    },
    {
      "cell_type": "code",
      "metadata": {
        "id": "gqrI0B3PwVz2",
        "outputId": "e9d1cdd7-8666-48d2-dc54-3555ba8ec7ce",
        "colab": {
          "base_uri": "https://localhost:8080/",
          "height": 103
        }
      },
      "source": [
        "!python -m retro.import /gdrive/My\\ Drive/Sonic"
      ],
      "execution_count": null,
      "outputs": [
        {
          "output_type": "stream",
          "text": [
            "Importing 5 potential games...\n",
            "Importing SonicTheHedgehog3-Genesis\n",
            "Importing SonicTheHedgehog-Genesis\n",
            "Importing SonicTheHedgehog2-Genesis\n",
            "Imported 3 games\n"
          ],
          "name": "stdout"
        }
      ]
    },
    {
      "cell_type": "code",
      "metadata": {
        "id": "FEwEtRmJwgZN"
      },
      "source": [
        "import retro\n",
        "from stable_baselines.common.policies import MlpPolicy, MlpLstmPolicy, MlpLnLstmPolicy, CnnLnLstmPolicy, CnnPolicy, CnnLstmPolicy\n",
        "from stable_baselines.common.vec_env import SubprocVecEnv, DummyVecEnv\n",
        "from stable_baselines import PPO2, A2C"
      ],
      "execution_count": null,
      "outputs": []
    },
    {
      "cell_type": "code",
      "metadata": {
        "id": "RKLIPUQGwwtn"
      },
      "source": [
        "env = DummyVecEnv([lambda: retro.make('SonicTheHedgehog-Genesis', state='GreenHillZone.Act1', record='/gdrive/My Drive/Sonic/')])"
      ],
      "execution_count": null,
      "outputs": []
    },
    {
      "cell_type": "code",
      "metadata": {
        "id": "IeIfwdZGxEDh",
        "outputId": "d7dc3995-03b0-4e43-e7ee-df2d964c365f",
        "colab": {
          "base_uri": "https://localhost:8080/",
          "height": 1220
        }
      },
      "source": [
        "modelname = 'sonicppo'\n",
        "#model = PPO2(CnnPolicy,env,n_steps=2048, verbose=1)\n",
        "model = PPO2.load(modelname)\n",
        "model.set_env(env)\n",
        "model.learn(total_timesteps=10000)\n",
        "model.save(\"/gdrive/My Drive/Sonic/\" + modelname)\n"
      ],
      "execution_count": null,
      "outputs": [
        {
          "output_type": "stream",
          "text": [
            "WARNING:tensorflow:From /usr/local/lib/python3.6/dist-packages/stable_baselines/common/input.py:26: to_float (from tensorflow.python.ops.math_ops) is deprecated and will be removed in a future version.\n",
            "Instructions for updating:\n",
            "Use tf.cast instead.\n",
            "WARNING:tensorflow:From /usr/local/lib/python3.6/dist-packages/tensorflow/python/framework/op_def_library.py:263: colocate_with (from tensorflow.python.framework.ops) is deprecated and will be removed in a future version.\n",
            "Instructions for updating:\n",
            "Colocations handled automatically by placer.\n",
            "WARNING:tensorflow:From /usr/local/lib/python3.6/dist-packages/tensorflow/python/ops/math_ops.py:3066: to_int32 (from tensorflow.python.ops.math_ops) is deprecated and will be removed in a future version.\n",
            "Instructions for updating:\n",
            "Use tf.cast instead.\n",
            "--------------------------------------\n",
            "| approxkl           | 0.0013726624  |\n",
            "| clipfrac           | 0.0028076172  |\n",
            "| ep_rewmean         | nan           |\n",
            "| eplenmean          | nan           |\n",
            "| explained_variance | 0.661         |\n",
            "| fps                | 107           |\n",
            "| nupdates           | 2             |\n",
            "| policy_entropy     | 8.316457      |\n",
            "| policy_loss        | -0.0017805973 |\n",
            "| serial_timesteps   | 4096          |\n",
            "| time_elapsed       | 3.34e-06      |\n",
            "| total_timesteps    | 4096          |\n",
            "| value_loss         | 4.2344503     |\n",
            "--------------------------------------\n",
            "--------------------------------------\n",
            "| approxkl           | 0.003592797   |\n",
            "| clipfrac           | 0.041870117   |\n",
            "| ep_rewmean         | nan           |\n",
            "| eplenmean          | nan           |\n",
            "| explained_variance | 0.724         |\n",
            "| fps                | 135           |\n",
            "| nupdates           | 3             |\n",
            "| policy_entropy     | 8.308704      |\n",
            "| policy_loss        | -0.006050285  |\n",
            "| serial_timesteps   | 6144          |\n",
            "| time_elapsed       | 19            |\n",
            "| total_timesteps    | 6144          |\n",
            "| value_loss         | 0.00093370496 |\n",
            "--------------------------------------\n",
            "-------------------------------------\n",
            "| approxkl           | 0.0040572686 |\n",
            "| clipfrac           | 0.044921875  |\n",
            "| ep_rewmean         | nan          |\n",
            "| eplenmean          | nan          |\n",
            "| explained_variance | 0.000955     |\n",
            "| fps                | 136          |\n",
            "| nupdates           | 4            |\n",
            "| policy_entropy     | 8.313326     |\n",
            "| policy_loss        | -0.004605525 |\n",
            "| serial_timesteps   | 8192         |\n",
            "| time_elapsed       | 34.2         |\n",
            "| total_timesteps    | 8192         |\n",
            "| value_loss         | 20.965506    |\n",
            "-------------------------------------\n",
            "--------------------------------------\n",
            "| approxkl           | 0.00043013442 |\n",
            "| clipfrac           | 0.00024414062 |\n",
            "| ep_rewmean         | nan           |\n",
            "| eplenmean          | nan           |\n",
            "| explained_variance | 0.527         |\n",
            "| fps                | 135           |\n",
            "| nupdates           | 5             |\n",
            "| policy_entropy     | 8.315998      |\n",
            "| policy_loss        | -0.0028054828 |\n",
            "| serial_timesteps   | 10240         |\n",
            "| time_elapsed       | 49.3          |\n",
            "| total_timesteps    | 10240         |\n",
            "| value_loss         | 0.00052177516 |\n",
            "--------------------------------------\n"
          ],
          "name": "stdout"
        }
      ]
    },
    {
      "cell_type": "code",
      "metadata": {
        "id": "97f43zBYzAWt",
        "outputId": "738eee77-c155-4df1-f223-f1d6eda5ed1c",
        "colab": {
          "base_uri": "https://localhost:8080/",
          "height": 34
        }
      },
      "source": [
        "obs = env.reset()\n",
        "done = False\n",
        "reward = 0\n",
        "\n",
        "while not done:\n",
        "  actions, _ = model.predict(obs)\n",
        "  obs, rew, done, info = env.step(actions)\n",
        "  reward += rew\n",
        "\n",
        "  \n",
        "print(rew)"
      ],
      "execution_count": null,
      "outputs": [
        {
          "output_type": "stream",
          "text": [
            "[0.]\n"
          ],
          "name": "stdout"
        }
      ]
    },
    {
      "cell_type": "code",
      "metadata": {
        "id": "gqie3rSGzmOJ",
        "outputId": "d59ec6ac-4328-445d-9053-39b3d991bdb6",
        "colab": {
          "base_uri": "https://localhost:8080/",
          "height": 1066
        }
      },
      "source": [
        "!python /usr/local/lib/python3.6/dist-packages/retro/scripts/playback_movie.py /gdrive/My\\ Drive/Sonic/SonicTheHedgehog-Genesis-GreenHillZone.Act1-000001.bk2"
      ],
      "execution_count": null,
      "outputs": [
        {
          "output_type": "stream",
          "text": [
            "ffmpeg version 3.4.4-0ubuntu0.18.04.1 Copyright (c) 2000-2018 the FFmpeg developers\n",
            "  built with gcc 7 (Ubuntu 7.3.0-16ubuntu3)\n",
            "  configuration: --prefix=/usr --extra-version=0ubuntu0.18.04.1 --toolchain=hardened --libdir=/usr/lib/x86_64-linux-gnu --incdir=/usr/include/x86_64-linux-gnu --enable-gpl --disable-stripping --enable-avresample --enable-avisynth --enable-gnutls --enable-ladspa --enable-libass --enable-libbluray --enable-libbs2b --enable-libcaca --enable-libcdio --enable-libflite --enable-libfontconfig --enable-libfreetype --enable-libfribidi --enable-libgme --enable-libgsm --enable-libmp3lame --enable-libmysofa --enable-libopenjpeg --enable-libopenmpt --enable-libopus --enable-libpulse --enable-librubberband --enable-librsvg --enable-libshine --enable-libsnappy --enable-libsoxr --enable-libspeex --enable-libssh --enable-libtheora --enable-libtwolame --enable-libvorbis --enable-libvpx --enable-libwavpack --enable-libwebp --enable-libx265 --enable-libxml2 --enable-libxvid --enable-libzmq --enable-libzvbi --enable-omx --enable-openal --enable-opengl --enable-sdl2 --enable-libdc1394 --enable-libdrm --enable-libiec61883 --enable-chromaprint --enable-frei0r --enable-libopencv --enable-libx264 --enable-shared\n",
            "  libavutil      55. 78.100 / 55. 78.100\n",
            "  libavcodec     57.107.100 / 57.107.100\n",
            "  libavformat    57. 83.100 / 57. 83.100\n",
            "  libavdevice    57. 10.100 / 57. 10.100\n",
            "  libavfilter     6.107.100 /  6.107.100\n",
            "  libavresample   3.  7.  0 /  3.  7.  0\n",
            "  libswscale      4.  8.100 /  4.  8.100\n",
            "  libswresample   2.  9.100 /  2.  9.100\n",
            "  libpostproc    54.  7.100 / 54.  7.100\n",
            "Input #0, rawvideo, from 'tcp://127.0.0.1:37055?listen':\n",
            "  Duration: N/A, start: 0.000000, bitrate: 103086 kb/s\n",
            "    Stream #0:0: Video: rawvideo (RGB[24] / 0x18424752), rgb24, 320x224, 103086 kb/s, 59.92 tbr, 59.92 tbn, 59.92 tbc\n",
            "\u001b[0;33mGuessed Channel Layout for Input Stream #1.0 : stereo\n",
            "\u001b[0mInput #1, s16le, from 'tcp://127.0.0.1:50551?listen':\n",
            "  Duration: N/A, bitrate: 1411 kb/s\n",
            "    Stream #1:0: Audio: pcm_s16le, 44100 Hz, stereo, s16, 1411 kb/s\n",
            "Stream mapping:\n",
            "  Stream #0:0 -> #0:0 (rawvideo (native) -> h264 (libx264))\n",
            "  Stream #1:0 -> #0:1 (pcm_s16le (native) -> aac (native))\n",
            "Press [q] to stop, [?] for help\n",
            "\u001b[1;36m[libx264 @ 0x5613eb59a800] \u001b[0musing cpu capabilities: MMX2 SSE2Fast SSSE3 SSE4.2 AVX FMA3 BMI2 AVX2\n",
            "\u001b[1;36m[libx264 @ 0x5613eb59a800] \u001b[0mprofile High, level 2.1\n",
            "\u001b[1;36m[libx264 @ 0x5613eb59a800] \u001b[0m264 - core 152 r2854 e9a5903 - H.264/MPEG-4 AVC codec - Copyleft 2003-2017 - http://www.videolan.org/x264.html - options: cabac=1 ref=5 deblock=1:0:0 analyse=0x3:0x113 me=hex subme=8 psy=1 psy_rd=1.00:0.00 mixed_ref=1 me_range=16 chroma_me=1 trellis=2 8x8dct=1 cqm=0 deadzone=21,11 fast_pskip=1 chroma_qp_offset=-2 threads=3 lookahead_threads=1 sliced_threads=0 nr=0 decimate=1 interlaced=0 bluray_compat=0 constrained_intra=0 bframes=3 b_pyramid=2 b_adapt=1 b_bias=0 direct=3 weightb=1 open_gop=0 weightp=2 keyint=250 keyint_min=25 scenecut=40 intra_refresh=0 rc_lookahead=50 rc=crf mbtree=1 crf=17.0 qcomp=0.60 qpmin=0 qpmax=69 qpstep=4 ip_ratio=1.40 aq=1:1.00\n",
            "Output #0, mp4, to '/gdrive/My Drive/Sonic/SonicTheHedgehog-Genesis-GreenHillZone.Act1-000001.mp4':\n",
            "  Metadata:\n",
            "    encoder         : Lavf57.83.100\n",
            "    Stream #0:0: Video: h264 (libx264) (avc1 / 0x31637661), yuv420p(progressive), 320x224, q=-1--1, 59.92 fps, 152024 tbn, 59.92 tbc\n",
            "    Metadata:\n",
            "      encoder         : Lavc57.107.100 libx264\n",
            "    Side data:\n",
            "      cpb: bitrate max/min/avg: 0/0/0 buffer size: 0 vbv_delay: -1\n",
            "    Stream #0:1: Audio: aac (LC) (mp4a / 0x6134706D), 44100 Hz, stereo, fltp, 128 kb/s\n",
            "    Metadata:\n",
            "      encoder         : Lavc57.107.100 aac\n",
            "\u001b[0;35m[s16le @ 0x5613eb57a600] \u001b[0m\u001b[0;33mThread message queue blocking; consider raising the thread_queue_size option (current value: 60)\n",
            "frame=24558 fps=115 q=-1.0 Lsize=   69181kB time=00:06:49.83 bitrate=1382.8kbits/s speed=1.92x    \n",
            "video:61917kB audio:6635kB subtitle:0kB other streams:0kB global headers:0kB muxing overhead: 0.916396%\n",
            "\u001b[1;36m[libx264 @ 0x5613eb59a800] \u001b[0mframe I:99    Avg QP:17.70  size: 40833\n",
            "\u001b[1;36m[libx264 @ 0x5613eb59a800] \u001b[0mframe P:11377 Avg QP:21.63  size:  4455\n",
            "\u001b[1;36m[libx264 @ 0x5613eb59a800] \u001b[0mframe B:13082 Avg QP:29.29  size:   663\n",
            "\u001b[1;36m[libx264 @ 0x5613eb59a800] \u001b[0mconsecutive B-frames: 20.7% 20.1% 14.4% 44.8%\n",
            "\u001b[1;36m[libx264 @ 0x5613eb59a800] \u001b[0mmb I  I16..4:  6.4%  4.3% 89.3%\n",
            "\u001b[1;36m[libx264 @ 0x5613eb59a800] \u001b[0mmb P  I16..4:  0.2%  0.2%  0.4%  P16..4: 24.7%  8.3%  7.5%  0.0%  0.0%    skip:58.6%\n",
            "\u001b[1;36m[libx264 @ 0x5613eb59a800] \u001b[0mmb B  I16..4:  0.0%  0.0%  0.0%  B16..8: 15.2%  2.9%  2.0%  direct: 3.0%  skip:76.8%  L0:44.5% L1:47.1% BI: 8.4%\n",
            "\u001b[1;36m[libx264 @ 0x5613eb59a800] \u001b[0m8x8 transform intra:14.3% inter:2.0%\n",
            "\u001b[1;36m[libx264 @ 0x5613eb59a800] \u001b[0mdirect mvs  spatial:99.5% temporal:0.5%\n",
            "\u001b[1;36m[libx264 @ 0x5613eb59a800] \u001b[0mcoded y,uvDC,uvAC intra: 65.2% 80.2% 78.8% inter: 8.9% 18.3% 16.8%\n",
            "\u001b[1;36m[libx264 @ 0x5613eb59a800] \u001b[0mi16 v,h,dc,p: 53% 27% 19%  1%\n",
            "\u001b[1;36m[libx264 @ 0x5613eb59a800] \u001b[0mi8 v,h,dc,ddl,ddr,vr,hd,vl,hu:  9%  5% 81%  0%  0%  0%  1%  1%  2%\n",
            "\u001b[1;36m[libx264 @ 0x5613eb59a800] \u001b[0mi4 v,h,dc,ddl,ddr,vr,hd,vl,hu: 23% 14% 22%  6%  6%  6%  7%  7% 10%\n",
            "\u001b[1;36m[libx264 @ 0x5613eb59a800] \u001b[0mi8c dc,h,v,p: 57% 21% 14%  8%\n",
            "\u001b[1;36m[libx264 @ 0x5613eb59a800] \u001b[0mWeighted P-Frames: Y:0.3% UV:0.3%\n",
            "\u001b[1;36m[libx264 @ 0x5613eb59a800] \u001b[0mref P L0: 66.5%  4.8% 13.4%  7.8%  5.7%  1.7%  0.0%\n",
            "\u001b[1;36m[libx264 @ 0x5613eb59a800] \u001b[0mref B L0: 92.1%  5.4%  2.0%  0.5%\n",
            "\u001b[1;36m[libx264 @ 0x5613eb59a800] \u001b[0mref B L1: 98.2%  1.8%\n",
            "\u001b[1;36m[libx264 @ 0x5613eb59a800] \u001b[0mkb/s:1237.65\n",
            "\u001b[1;36m[aac @ 0x5613eb59b700] \u001b[0mQavg: 746.479\n"
          ],
          "name": "stdout"
        }
      ]
    },
    {
      "cell_type": "markdown",
      "source": [
        "# STUDY CARA LINK GOOGLE"
      ],
      "metadata": {
        "id": "Jj-NECkqdH4f"
      }
    },
    {
      "cell_type": "markdown",
      "source": [
        "[youtube](https://youtube.com)"
      ],
      "metadata": {
        "id": "xKrbM-DfdQ4y"
      }
    },
    {
      "cell_type": "markdown",
      "source": [
        "# PENULISAN RUMUS"
      ],
      "metadata": {
        "id": "e3XEOOMldnop"
      }
    },
    {
      "cell_type": "markdown",
      "source": [
        "$\\sqrt{3x+1}$"
      ],
      "metadata": {
        "id": "KE29vNZvdrpn"
      }
    },
    {
      "cell_type": "markdown",
      "source": [
        "# SHARE CELLS"
      ],
      "metadata": {
        "id": "JqXo0htfeogC"
      }
    },
    {
      "cell_type": "code",
      "source": [
        "#tulisan ini dikerjakan bersama"
      ],
      "metadata": {
        "id": "q3RzbXrges0-"
      },
      "execution_count": null,
      "outputs": []
    }
  ]
}